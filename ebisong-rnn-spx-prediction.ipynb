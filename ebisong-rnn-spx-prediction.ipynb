{
 "cells": [
  {
   "cell_type": "markdown",
   "metadata": {},
   "source": [
    "# Predicting the S&P500 with Recurrent Neural Networks"
   ]
  },
  {
   "cell_type": "markdown",
   "metadata": {},
   "source": [
    "### Outline\n",
    "Recurrent neural networks are a special type of deep neural networks for learning outcomes where future predictions are linked to past events. The S&P 500 is a stock market index that tracks the performance of the 500 largest companies that are listed on stock exchanges in the United States. We may observe that the future price (in this case closing price) of an underlying (in this case, the S&P) may be linked to the past market data such as the previous high, low, opening and closing price of the underlying and the volume of trades made per day. Other information that affect the market in the past may also be contributing factors. In this project, we frame predicting the future closing price of the S&P 500 as a sequence problem. Hence, we use recurrent neural networks to build an approximation model for a multivariate time-series problem."
   ]
  },
  {
   "cell_type": "markdown",
   "metadata": {},
   "source": [
    "### Data source\n",
    "Data is from YahooFinance (https://finance.yahoo.com/quote/%5EGSPC/history/).\n",
    "90 Year Historical S&P 500 Index data since 1927. From December 30th 1927 to February 23rd 2021.\n",
    "Historical data is inflation-adjusted using the headline CPI and each data point represents the month-end closing value. The current month is updated on an hourly basis with today's latest value. The current price of the S&P 500 as of February 23, 2021 is 3,881.37."
   ]
  },
  {
   "cell_type": "markdown",
   "metadata": {},
   "source": [
    "### Model"
   ]
  },
  {
   "cell_type": "code",
   "execution_count": 1,
   "metadata": {},
   "outputs": [],
   "source": [
    "# imports\n",
    "import datetime\n",
    "import numpy as np\n",
    "import pandas as pd\n",
    "import datetime as dt\n",
    "import matplotlib.pyplot as plt\n",
    "\n",
    "import tensorflow as tf\n",
    "from tensorflow import keras\n",
    "from tensorflow.keras.callbacks import *\n",
    "from tensorflow.keras import backend as K\n",
    "\n",
    "from sklearn.model_selection import train_test_split\n",
    "from sklearn.preprocessing import MinMaxScaler"
   ]
  },
  {
   "cell_type": "code",
   "execution_count": 2,
   "metadata": {},
   "outputs": [],
   "source": [
    "# Load the TensorBoard notebook extension\n",
    "%load_ext tensorboard"
   ]
  },
  {
   "cell_type": "markdown",
   "metadata": {},
   "source": [
    "#### Load the data"
   ]
  },
  {
   "cell_type": "code",
   "execution_count": 3,
   "metadata": {},
   "outputs": [],
   "source": [
    "data = pd.read_csv('data/GSPC.csv')"
   ]
  },
  {
   "cell_type": "code",
   "execution_count": 4,
   "metadata": {},
   "outputs": [
    {
     "data": {
      "text/html": [
       "<div>\n",
       "<style scoped>\n",
       "    .dataframe tbody tr th:only-of-type {\n",
       "        vertical-align: middle;\n",
       "    }\n",
       "\n",
       "    .dataframe tbody tr th {\n",
       "        vertical-align: top;\n",
       "    }\n",
       "\n",
       "    .dataframe thead th {\n",
       "        text-align: right;\n",
       "    }\n",
       "</style>\n",
       "<table border=\"1\" class=\"dataframe\">\n",
       "  <thead>\n",
       "    <tr style=\"text-align: right;\">\n",
       "      <th></th>\n",
       "      <th>Date</th>\n",
       "      <th>Open</th>\n",
       "      <th>High</th>\n",
       "      <th>Low</th>\n",
       "      <th>Close</th>\n",
       "      <th>Adj Close</th>\n",
       "      <th>Volume</th>\n",
       "    </tr>\n",
       "  </thead>\n",
       "  <tbody>\n",
       "    <tr>\n",
       "      <th>0</th>\n",
       "      <td>1927-12-30</td>\n",
       "      <td>17.660000</td>\n",
       "      <td>17.660000</td>\n",
       "      <td>17.660000</td>\n",
       "      <td>17.660000</td>\n",
       "      <td>17.660000</td>\n",
       "      <td>0</td>\n",
       "    </tr>\n",
       "    <tr>\n",
       "      <th>1</th>\n",
       "      <td>1928-01-03</td>\n",
       "      <td>17.760000</td>\n",
       "      <td>17.760000</td>\n",
       "      <td>17.760000</td>\n",
       "      <td>17.760000</td>\n",
       "      <td>17.760000</td>\n",
       "      <td>0</td>\n",
       "    </tr>\n",
       "    <tr>\n",
       "      <th>2</th>\n",
       "      <td>1928-01-04</td>\n",
       "      <td>17.719999</td>\n",
       "      <td>17.719999</td>\n",
       "      <td>17.719999</td>\n",
       "      <td>17.719999</td>\n",
       "      <td>17.719999</td>\n",
       "      <td>0</td>\n",
       "    </tr>\n",
       "    <tr>\n",
       "      <th>3</th>\n",
       "      <td>1928-01-05</td>\n",
       "      <td>17.549999</td>\n",
       "      <td>17.549999</td>\n",
       "      <td>17.549999</td>\n",
       "      <td>17.549999</td>\n",
       "      <td>17.549999</td>\n",
       "      <td>0</td>\n",
       "    </tr>\n",
       "    <tr>\n",
       "      <th>4</th>\n",
       "      <td>1928-01-06</td>\n",
       "      <td>17.660000</td>\n",
       "      <td>17.660000</td>\n",
       "      <td>17.660000</td>\n",
       "      <td>17.660000</td>\n",
       "      <td>17.660000</td>\n",
       "      <td>0</td>\n",
       "    </tr>\n",
       "  </tbody>\n",
       "</table>\n",
       "</div>"
      ],
      "text/plain": [
       "         Date       Open       High        Low      Close  Adj Close  Volume\n",
       "0  1927-12-30  17.660000  17.660000  17.660000  17.660000  17.660000       0\n",
       "1  1928-01-03  17.760000  17.760000  17.760000  17.760000  17.760000       0\n",
       "2  1928-01-04  17.719999  17.719999  17.719999  17.719999  17.719999       0\n",
       "3  1928-01-05  17.549999  17.549999  17.549999  17.549999  17.549999       0\n",
       "4  1928-01-06  17.660000  17.660000  17.660000  17.660000  17.660000       0"
      ]
     },
     "execution_count": 4,
     "metadata": {},
     "output_type": "execute_result"
    }
   ],
   "source": [
    "data.head()"
   ]
  },
  {
   "cell_type": "code",
   "execution_count": 5,
   "metadata": {},
   "outputs": [],
   "source": [
    "# set Date as index column\n",
    "data = data.set_index('Date')"
   ]
  },
  {
   "cell_type": "markdown",
   "metadata": {},
   "source": [
    "#### Process the data"
   ]
  },
  {
   "cell_type": "code",
   "execution_count": 6,
   "metadata": {},
   "outputs": [],
   "source": [
    "# add next days closing (target)\n",
    "data['next_day_close'] = data['Close'].shift(-1)"
   ]
  },
  {
   "cell_type": "code",
   "execution_count": 7,
   "metadata": {},
   "outputs": [
    {
     "data": {
      "text/html": [
       "<div>\n",
       "<style scoped>\n",
       "    .dataframe tbody tr th:only-of-type {\n",
       "        vertical-align: middle;\n",
       "    }\n",
       "\n",
       "    .dataframe tbody tr th {\n",
       "        vertical-align: top;\n",
       "    }\n",
       "\n",
       "    .dataframe thead th {\n",
       "        text-align: right;\n",
       "    }\n",
       "</style>\n",
       "<table border=\"1\" class=\"dataframe\">\n",
       "  <thead>\n",
       "    <tr style=\"text-align: right;\">\n",
       "      <th></th>\n",
       "      <th>Open</th>\n",
       "      <th>High</th>\n",
       "      <th>Low</th>\n",
       "      <th>Close</th>\n",
       "      <th>Adj Close</th>\n",
       "      <th>Volume</th>\n",
       "      <th>next_day_close</th>\n",
       "    </tr>\n",
       "    <tr>\n",
       "      <th>Date</th>\n",
       "      <th></th>\n",
       "      <th></th>\n",
       "      <th></th>\n",
       "      <th></th>\n",
       "      <th></th>\n",
       "      <th></th>\n",
       "      <th></th>\n",
       "    </tr>\n",
       "  </thead>\n",
       "  <tbody>\n",
       "    <tr>\n",
       "      <th>1927-12-30</th>\n",
       "      <td>17.660000</td>\n",
       "      <td>17.660000</td>\n",
       "      <td>17.660000</td>\n",
       "      <td>17.660000</td>\n",
       "      <td>17.660000</td>\n",
       "      <td>0</td>\n",
       "      <td>17.760000</td>\n",
       "    </tr>\n",
       "    <tr>\n",
       "      <th>1928-01-03</th>\n",
       "      <td>17.760000</td>\n",
       "      <td>17.760000</td>\n",
       "      <td>17.760000</td>\n",
       "      <td>17.760000</td>\n",
       "      <td>17.760000</td>\n",
       "      <td>0</td>\n",
       "      <td>17.719999</td>\n",
       "    </tr>\n",
       "    <tr>\n",
       "      <th>1928-01-04</th>\n",
       "      <td>17.719999</td>\n",
       "      <td>17.719999</td>\n",
       "      <td>17.719999</td>\n",
       "      <td>17.719999</td>\n",
       "      <td>17.719999</td>\n",
       "      <td>0</td>\n",
       "      <td>17.549999</td>\n",
       "    </tr>\n",
       "    <tr>\n",
       "      <th>1928-01-05</th>\n",
       "      <td>17.549999</td>\n",
       "      <td>17.549999</td>\n",
       "      <td>17.549999</td>\n",
       "      <td>17.549999</td>\n",
       "      <td>17.549999</td>\n",
       "      <td>0</td>\n",
       "      <td>17.660000</td>\n",
       "    </tr>\n",
       "    <tr>\n",
       "      <th>1928-01-06</th>\n",
       "      <td>17.660000</td>\n",
       "      <td>17.660000</td>\n",
       "      <td>17.660000</td>\n",
       "      <td>17.660000</td>\n",
       "      <td>17.660000</td>\n",
       "      <td>0</td>\n",
       "      <td>17.500000</td>\n",
       "    </tr>\n",
       "  </tbody>\n",
       "</table>\n",
       "</div>"
      ],
      "text/plain": [
       "                 Open       High        Low      Close  Adj Close  Volume  \\\n",
       "Date                                                                        \n",
       "1927-12-30  17.660000  17.660000  17.660000  17.660000  17.660000       0   \n",
       "1928-01-03  17.760000  17.760000  17.760000  17.760000  17.760000       0   \n",
       "1928-01-04  17.719999  17.719999  17.719999  17.719999  17.719999       0   \n",
       "1928-01-05  17.549999  17.549999  17.549999  17.549999  17.549999       0   \n",
       "1928-01-06  17.660000  17.660000  17.660000  17.660000  17.660000       0   \n",
       "\n",
       "            next_day_close  \n",
       "Date                        \n",
       "1927-12-30       17.760000  \n",
       "1928-01-03       17.719999  \n",
       "1928-01-04       17.549999  \n",
       "1928-01-05       17.660000  \n",
       "1928-01-06       17.500000  "
      ]
     },
     "execution_count": 7,
     "metadata": {},
     "output_type": "execute_result"
    }
   ],
   "source": [
    "data.head()"
   ]
  },
  {
   "cell_type": "code",
   "execution_count": 8,
   "metadata": {},
   "outputs": [
    {
     "data": {
      "text/html": [
       "<div>\n",
       "<style scoped>\n",
       "    .dataframe tbody tr th:only-of-type {\n",
       "        vertical-align: middle;\n",
       "    }\n",
       "\n",
       "    .dataframe tbody tr th {\n",
       "        vertical-align: top;\n",
       "    }\n",
       "\n",
       "    .dataframe thead th {\n",
       "        text-align: right;\n",
       "    }\n",
       "</style>\n",
       "<table border=\"1\" class=\"dataframe\">\n",
       "  <thead>\n",
       "    <tr style=\"text-align: right;\">\n",
       "      <th></th>\n",
       "      <th>Open</th>\n",
       "      <th>High</th>\n",
       "      <th>Low</th>\n",
       "      <th>Close</th>\n",
       "      <th>Adj Close</th>\n",
       "      <th>Volume</th>\n",
       "      <th>next_day_close</th>\n",
       "    </tr>\n",
       "    <tr>\n",
       "      <th>Date</th>\n",
       "      <th></th>\n",
       "      <th></th>\n",
       "      <th></th>\n",
       "      <th></th>\n",
       "      <th></th>\n",
       "      <th></th>\n",
       "      <th></th>\n",
       "    </tr>\n",
       "  </thead>\n",
       "  <tbody>\n",
       "    <tr>\n",
       "      <th>2021-02-17</th>\n",
       "      <td>3918.500000</td>\n",
       "      <td>3933.610107</td>\n",
       "      <td>3900.429932</td>\n",
       "      <td>3931.330078</td>\n",
       "      <td>3931.330078</td>\n",
       "      <td>4718280000</td>\n",
       "      <td>3913.969971</td>\n",
       "    </tr>\n",
       "    <tr>\n",
       "      <th>2021-02-18</th>\n",
       "      <td>3915.860107</td>\n",
       "      <td>3921.979980</td>\n",
       "      <td>3885.030029</td>\n",
       "      <td>3913.969971</td>\n",
       "      <td>3913.969971</td>\n",
       "      <td>4773430000</td>\n",
       "      <td>3906.709961</td>\n",
       "    </tr>\n",
       "    <tr>\n",
       "      <th>2021-02-19</th>\n",
       "      <td>3921.159912</td>\n",
       "      <td>3930.409912</td>\n",
       "      <td>3903.070068</td>\n",
       "      <td>3906.709961</td>\n",
       "      <td>3906.709961</td>\n",
       "      <td>4823940000</td>\n",
       "      <td>3876.500000</td>\n",
       "    </tr>\n",
       "    <tr>\n",
       "      <th>2021-02-22</th>\n",
       "      <td>3885.550049</td>\n",
       "      <td>3902.919922</td>\n",
       "      <td>3874.709961</td>\n",
       "      <td>3876.500000</td>\n",
       "      <td>3876.500000</td>\n",
       "      <td>5870190000</td>\n",
       "      <td>3881.370117</td>\n",
       "    </tr>\n",
       "    <tr>\n",
       "      <th>2021-02-23</th>\n",
       "      <td>3857.070068</td>\n",
       "      <td>3895.979980</td>\n",
       "      <td>3805.590088</td>\n",
       "      <td>3881.370117</td>\n",
       "      <td>3881.370117</td>\n",
       "      <td>6280650000</td>\n",
       "      <td>NaN</td>\n",
       "    </tr>\n",
       "  </tbody>\n",
       "</table>\n",
       "</div>"
      ],
      "text/plain": [
       "                   Open         High          Low        Close    Adj Close  \\\n",
       "Date                                                                          \n",
       "2021-02-17  3918.500000  3933.610107  3900.429932  3931.330078  3931.330078   \n",
       "2021-02-18  3915.860107  3921.979980  3885.030029  3913.969971  3913.969971   \n",
       "2021-02-19  3921.159912  3930.409912  3903.070068  3906.709961  3906.709961   \n",
       "2021-02-22  3885.550049  3902.919922  3874.709961  3876.500000  3876.500000   \n",
       "2021-02-23  3857.070068  3895.979980  3805.590088  3881.370117  3881.370117   \n",
       "\n",
       "                Volume  next_day_close  \n",
       "Date                                    \n",
       "2021-02-17  4718280000     3913.969971  \n",
       "2021-02-18  4773430000     3906.709961  \n",
       "2021-02-19  4823940000     3876.500000  \n",
       "2021-02-22  5870190000     3881.370117  \n",
       "2021-02-23  6280650000             NaN  "
      ]
     },
     "execution_count": 8,
     "metadata": {},
     "output_type": "execute_result"
    }
   ],
   "source": [
    "data.tail()"
   ]
  },
  {
   "cell_type": "code",
   "execution_count": 9,
   "metadata": {},
   "outputs": [
    {
     "name": "stdout",
     "output_type": "stream",
     "text": [
      "(23396, 6)\n"
     ]
    }
   ],
   "source": [
    "# remove NaNs\n",
    "data.dropna(axis=0, inplace=True)\n",
    "\n",
    "# drop  Adji Close\n",
    "data.drop(columns='Adj Close', inplace=True)\n",
    "\n",
    "print(data.shape)"
   ]
  },
  {
   "cell_type": "markdown",
   "metadata": {},
   "source": [
    "#### Modelling preparation"
   ]
  },
  {
   "cell_type": "code",
   "execution_count": 10,
   "metadata": {},
   "outputs": [],
   "source": [
    "# split in training and evaluation set\n",
    "data_train, data_test = train_test_split(data, test_size=0.2, shuffle=False)"
   ]
  },
  {
   "cell_type": "code",
   "execution_count": 11,
   "metadata": {},
   "outputs": [],
   "source": [
    "# split train/ test\n",
    "train_X, train_y = data_train.values[:, :-1], data_train.values[:, -1]\n",
    "test_X, test_y = data_test.values[:, :-1], data_test.values[:, -1]"
   ]
  },
  {
   "cell_type": "code",
   "execution_count": 12,
   "metadata": {},
   "outputs": [
    {
     "name": "stdout",
     "output_type": "stream",
     "text": [
      "train_X: (18716, 5)\n",
      "train_y: (18716,)\n",
      "\n",
      "test_X: (4680, 5)\n",
      "test_y: (4680,)\n"
     ]
    }
   ],
   "source": [
    "print(f'train_X: {train_X.shape}')\n",
    "print(f'train_y: {train_y.shape}\\n')\n",
    "\n",
    "print(f'test_X: {test_X.shape}')\n",
    "print(f'test_y: {test_y.shape}')"
   ]
  },
  {
   "cell_type": "code",
   "execution_count": 13,
   "metadata": {},
   "outputs": [],
   "source": [
    "# FEATURE (X) MinMaxScaler - center and scale the dataset\n",
    "scaler_train_X = MinMaxScaler(feature_range=(0, 1))\n",
    "# scaler_test_X = MinMaxScaler(feature_range=(0, 1))"
   ]
  },
  {
   "cell_type": "code",
   "execution_count": 14,
   "metadata": {},
   "outputs": [],
   "source": [
    "# TARGET (y) MinMaxScaler - center and scale the dataset\n",
    "scaler_train_y = MinMaxScaler(feature_range=(0, 1))\n",
    "# scaler_test_y = MinMaxScaler(feature_range=(0, 1))"
   ]
  },
  {
   "cell_type": "markdown",
   "metadata": {},
   "source": [
    "**Scale X and reshape inputs**"
   ]
  },
  {
   "cell_type": "code",
   "execution_count": 15,
   "metadata": {},
   "outputs": [],
   "source": [
    "# scale X\n",
    "train_X = scaler_train_X.fit_transform(train_X)\n",
    "test_X = scaler_train_X.transform(test_X)\n",
    "# test_X = scaler_test_X.fit_transform(test_X)"
   ]
  },
  {
   "cell_type": "code",
   "execution_count": 16,
   "metadata": {},
   "outputs": [],
   "source": [
    "# reshape inputs to 3D array\n",
    "train_X = train_X[:,None,:]\n",
    "test_X = test_X[:,None,:]"
   ]
  },
  {
   "cell_type": "code",
   "execution_count": 17,
   "metadata": {},
   "outputs": [
    {
     "name": "stdout",
     "output_type": "stream",
     "text": [
      "train_X: (18716, 1, 5)\n",
      "test_X: (4680, 1, 5)\n"
     ]
    }
   ],
   "source": [
    "print(f'train_X: {train_X.shape}')\n",
    "print(f'test_X: {test_X.shape}')"
   ]
  },
  {
   "cell_type": "markdown",
   "metadata": {},
   "source": [
    "**Reshape y and scale**"
   ]
  },
  {
   "cell_type": "code",
   "execution_count": 18,
   "metadata": {},
   "outputs": [],
   "source": [
    "# reshape outputs\n",
    "train_y = np.reshape(train_y, (-1,1))\n",
    "test_y = np.reshape(test_y, (-1,1))"
   ]
  },
  {
   "cell_type": "code",
   "execution_count": 19,
   "metadata": {},
   "outputs": [
    {
     "name": "stdout",
     "output_type": "stream",
     "text": [
      "train_y: (18716, 1)\n",
      "test_y: (4680, 1)\n"
     ]
    }
   ],
   "source": [
    "print(f'train_y: {train_y.shape}')\n",
    "print(f'test_y: {test_y.shape}')"
   ]
  },
  {
   "cell_type": "code",
   "execution_count": 20,
   "metadata": {},
   "outputs": [],
   "source": [
    "train_y = scaler_train_y.fit_transform(train_y)\n",
    "test_y = scaler_train_y.transform(test_y)\n",
    "# test_y = scaler_test_y.fit_transform(test_y)"
   ]
  },
  {
   "cell_type": "markdown",
   "metadata": {},
   "source": [
    "#### The Model"
   ]
  },
  {
   "cell_type": "markdown",
   "metadata": {},
   "source": [
    "**Keras callbacks**"
   ]
  },
  {
   "cell_type": "code",
   "execution_count": 21,
   "metadata": {},
   "outputs": [],
   "source": [
    "checkpoint = ModelCheckpoint('model/stock_prediction.h5',\n",
    "                             monitor='loss',\n",
    "                             save_best_only=True,\n",
    "                             verbose=1,\n",
    "                             mode='auto',\n",
    "                             save_weights_only=False)\n",
    "\n",
    "tensorboard = TensorBoard(log_dir=f'./logs-{dt.datetime.now().strftime(\"%m%d%Y%H%M%S\")}',\n",
    "                          histogram_freq=0,\n",
    "                          write_graph=False,\n",
    "                          update_freq='epoch')\n",
    "\n",
    "earlystop = EarlyStopping(monitor='loss',\n",
    "                          min_delta=.0001,\n",
    "                          patience=20,\n",
    "                          verbose=1,\n",
    "                          mode='auto',\n",
    "                          baseline=None,\n",
    "                          restore_best_weights=True)\n",
    "\n",
    "reducelr = ReduceLROnPlateau(monitor='loss',\n",
    "                             factor=np.sqrt(.1),\n",
    "                             patience=5,\n",
    "                             verbose=1,\n",
    "                             mode='auto',\n",
    "                             min_delta=.0001,\n",
    "                             cooldown=0,\n",
    "                             min_lr=0.0000001)\n",
    "\n",
    "def epoch_end(epoch, logs):\n",
    "    message = f'End of epoch {str(epoch)}. Learning rate: {str(K.eval(model.optimizer.lr))}'\n",
    "    os.system(f'echo {message}')\n",
    "\n",
    "def epoch_begin(epoch, logs):\n",
    "    print(f'Learning rate: {K.eval(model.optimizer.lr)}')\n",
    "    \n",
    "def train_begin(logs):\n",
    "    os.system(f'echo Beginning training')\n",
    "\n",
    "\n",
    "lambdacb = LambdaCallback(on_epoch_begin=epoch_begin,\n",
    "                          on_epoch_end=epoch_end,\n",
    "                          on_batch_begin=None,\n",
    "                          on_batch_end=None,\n",
    "                          on_train_begin=train_begin,\n",
    "                          on_train_end=None)"
   ]
  },
  {
   "cell_type": "markdown",
   "metadata": {},
   "source": [
    "**Build the Model**"
   ]
  },
  {
   "cell_type": "code",
   "execution_count": 22,
   "metadata": {},
   "outputs": [],
   "source": [
    "# build model\n",
    "model = tf.keras.Sequential()\n",
    "model.add(tf.keras.layers.GRU(1024, input_shape=train_X.shape[1:],\n",
    "                               return_sequences=True))\n",
    "# model.add(tf.keras.layers.GRU(128, return_sequences=True))\n",
    "# model.add(tf.keras.layers.GRU(64))\n",
    "model.add(tf.keras.layers.Dense(1))\n",
    "\n",
    "# compile the model\n",
    "model.compile(loss='mean_squared_error',\n",
    "              optimizer='adam',\n",
    "              metrics=['mse'])"
   ]
  },
  {
   "cell_type": "code",
   "execution_count": 23,
   "metadata": {},
   "outputs": [
    {
     "name": "stdout",
     "output_type": "stream",
     "text": [
      "Model: \"sequential\"\n",
      "_________________________________________________________________\n",
      "Layer (type)                 Output Shape              Param #   \n",
      "=================================================================\n",
      "gru (GRU)                    (None, 1, 512)            797184    \n",
      "_________________________________________________________________\n",
      "dense (Dense)                (None, 1, 1)              513       \n",
      "=================================================================\n",
      "Total params: 797,697\n",
      "Trainable params: 797,697\n",
      "Non-trainable params: 0\n",
      "_________________________________________________________________\n"
     ]
    }
   ],
   "source": [
    "# print model summary\n",
    "model.summary()"
   ]
  },
  {
   "cell_type": "code",
   "execution_count": 24,
   "metadata": {},
   "outputs": [],
   "source": [
    "# create dataset pipeline\n",
    "batch_size = 32\n",
    "train_ds = tf.data.Dataset.from_tensor_slices(\n",
    "    (train_X, train_y)).shuffle(len(train_X)).repeat().batch(batch_size)\n",
    "test_ds = tf.data.Dataset.from_tensor_slices((test_X, test_y)).batch(batch_size)"
   ]
  },
  {
   "cell_type": "markdown",
   "metadata": {},
   "source": [
    "**Train the Model**"
   ]
  },
  {
   "cell_type": "code",
   "execution_count": 25,
   "metadata": {},
   "outputs": [
    {
     "name": "stdout",
     "output_type": "stream",
     "text": [
      "Epoch 1/10\n",
      "   1/3000 [..............................] - ETA: 0s - loss: 0.0895 - mse: 0.0895WARNING:tensorflow:From /opt/conda/lib/python3.7/site-packages/tensorflow/python/ops/summary_ops_v2.py:1277: stop (from tensorflow.python.eager.profiler) is deprecated and will be removed after 2020-07-01.\n",
      "Instructions for updating:\n",
      "use `tf.profiler.experimental.stop` instead.\n",
      "   2/3000 [..............................] - ETA: 1:55 - loss: 0.0668 - mse: 0.0668WARNING:tensorflow:Callbacks method `on_train_batch_end` is slow compared to the batch time (batch time: 0.0133s vs `on_train_batch_end` time: 0.0627s). Check your callbacks.\n",
      "2998/3000 [============================>.] - ETA: 0s - loss: 1.7978e-04 - mse: 1.7978e-04\n",
      "Epoch 00001: loss improved from inf to 0.00018, saving model to model/stock_prediction.h5\n",
      "3000/3000 [==============================] - 34s 11ms/step - loss: 1.7967e-04 - mse: 1.7967e-04\n",
      "Epoch 2/10\n",
      "2999/3000 [============================>.] - ETA: 0s - loss: 1.9831e-05 - mse: 1.9831e-05\n",
      "Epoch 00002: loss improved from 0.00018 to 0.00002, saving model to model/stock_prediction.h5\n",
      "3000/3000 [==============================] - 34s 11ms/step - loss: 1.9832e-05 - mse: 1.9832e-05\n",
      "Epoch 3/10\n",
      "2997/3000 [============================>.] - ETA: 0s - loss: 1.7566e-05 - mse: 1.7566e-05\n",
      "Epoch 00003: loss improved from 0.00002 to 0.00002, saving model to model/stock_prediction.h5\n",
      "3000/3000 [==============================] - 35s 12ms/step - loss: 1.7566e-05 - mse: 1.7566e-05\n",
      "Epoch 4/10\n",
      "2996/3000 [============================>.] - ETA: 0s - loss: 1.6552e-05 - mse: 1.6552e-05\n",
      "Epoch 00004: loss improved from 0.00002 to 0.00002, saving model to model/stock_prediction.h5\n",
      "3000/3000 [==============================] - 34s 11ms/step - loss: 1.6576e-05 - mse: 1.6576e-05\n",
      "Epoch 5/10\n",
      "3000/3000 [==============================] - ETA: 0s - loss: 1.6570e-05 - mse: 1.6570e-05\n",
      "Epoch 00005: loss improved from 0.00002 to 0.00002, saving model to model/stock_prediction.h5\n",
      "3000/3000 [==============================] - 34s 11ms/step - loss: 1.6570e-05 - mse: 1.6570e-05\n",
      "Epoch 6/10\n",
      "3000/3000 [==============================] - ETA: 0s - loss: 1.6132e-05 - mse: 1.6132e-05\n",
      "Epoch 00006: loss improved from 0.00002 to 0.00002, saving model to model/stock_prediction.h5\n",
      "3000/3000 [==============================] - 34s 11ms/step - loss: 1.6132e-05 - mse: 1.6132e-05\n",
      "Epoch 7/10\n",
      "2999/3000 [============================>.] - ETA: 0s - loss: 1.4113e-05 - mse: 1.4113e-05\n",
      "Epoch 00007: ReduceLROnPlateau reducing learning rate to 0.00031622778103685084.\n",
      "\n",
      "Epoch 00007: loss improved from 0.00002 to 0.00001, saving model to model/stock_prediction.h5\n",
      "3000/3000 [==============================] - 34s 11ms/step - loss: 1.4112e-05 - mse: 1.4112e-05\n",
      "Epoch 8/10\n",
      "2996/3000 [============================>.] - ETA: 0s - loss: 1.0841e-05 - mse: 1.0841e-05\n",
      "Epoch 00008: loss improved from 0.00001 to 0.00001, saving model to model/stock_prediction.h5\n",
      "3000/3000 [==============================] - 34s 11ms/step - loss: 1.0851e-05 - mse: 1.0851e-05\n",
      "Epoch 9/10\n",
      "2998/3000 [============================>.] - ETA: 0s - loss: 1.0644e-05 - mse: 1.0644e-05\n",
      "Epoch 00009: loss improved from 0.00001 to 0.00001, saving model to model/stock_prediction.h5\n",
      "3000/3000 [==============================] - 35s 12ms/step - loss: 1.0645e-05 - mse: 1.0645e-05\n",
      "Epoch 10/10\n",
      "2999/3000 [============================>.] - ETA: 0s - loss: 1.0737e-05 - mse: 1.0737e-05\n",
      "Epoch 00010: loss did not improve from 0.00001\n",
      "3000/3000 [==============================] - 34s 11ms/step - loss: 1.0738e-05 - mse: 1.0738e-05\n"
     ]
    }
   ],
   "source": [
    "# train the model\n",
    "history = model.fit(train_ds, epochs=20, #10,\n",
    "                    steps_per_epoch=3000, #3000, #len(train_ds),\n",
    "#                     validation_data=test_ds,\n",
    "#                     validation_steps=len(test_ds),\n",
    "                    callbacks=[reducelr, earlystop, tensorboard, checkpoint])\n",
    "#                    )"
   ]
  },
  {
   "cell_type": "markdown",
   "metadata": {},
   "source": [
    "**Evaluate the model**"
   ]
  },
  {
   "cell_type": "code",
   "execution_count": 26,
   "metadata": {},
   "outputs": [
    {
     "name": "stdout",
     "output_type": "stream",
     "text": [
      "147/147 [==============================] - 1s 5ms/step - loss: 0.0034 - mse: 0.0034   \n"
     ]
    }
   ],
   "source": [
    "# evaluate the model\n",
    "loss, mse = model.evaluate(test_ds)"
   ]
  },
  {
   "cell_type": "code",
   "execution_count": 27,
   "metadata": {},
   "outputs": [
    {
     "name": "stdout",
     "output_type": "stream",
     "text": [
      "Validation loss: 0.0034\n",
      "Validation mse: 0.0034\n"
     ]
    }
   ],
   "source": [
    "print('Validation loss: {:.4f}'.format(loss))\n",
    "print('Validation mse: {:.4f}'.format(mse))"
   ]
  },
  {
   "cell_type": "markdown",
   "metadata": {},
   "source": [
    "**Visualize the model**"
   ]
  },
  {
   "cell_type": "code",
   "execution_count": 28,
   "metadata": {},
   "outputs": [
    {
     "data": {
      "text/plain": [
       "array([[[0.55501292, 0.54875458, 0.53423248, 0.53540241, 0.84701405]],\n",
       "\n",
       "       [[0.53674073, 0.53167966, 0.52291853, 0.52085934, 0.91971666]],\n",
       "\n",
       "       [[0.52224611, 0.5424193 , 0.50941179, 0.55088441, 1.04576316]],\n",
       "\n",
       "       ...,\n",
       "\n",
       "       [[2.56364174, 2.52996829, 2.56306232, 2.56691796, 1.79851174]],\n",
       "\n",
       "       [[2.56711142, 2.53541233, 2.57497732, 2.56215124, 1.81754267]],\n",
       "\n",
       "       [[2.5437983 , 2.51765932, 2.55624616, 2.54231619, 2.21174409]]])"
      ]
     },
     "execution_count": 28,
     "metadata": {},
     "output_type": "execute_result"
    }
   ],
   "source": [
    "test_X"
   ]
  },
  {
   "cell_type": "code",
   "execution_count": 29,
   "metadata": {},
   "outputs": [
    {
     "data": {
      "text/plain": [
       "(4680, 1, 5)"
      ]
     },
     "execution_count": 29,
     "metadata": {},
     "output_type": "execute_result"
    }
   ],
   "source": [
    "test_X.shape"
   ]
  },
  {
   "cell_type": "code",
   "execution_count": 30,
   "metadata": {},
   "outputs": [
    {
     "data": {
      "text/plain": [
       "(4680, 5)"
      ]
     },
     "execution_count": 30,
     "metadata": {},
     "output_type": "execute_result"
    }
   ],
   "source": [
    "test_X[:,0,:].shape"
   ]
  },
  {
   "cell_type": "code",
   "execution_count": 31,
   "metadata": {},
   "outputs": [
    {
     "data": {
      "text/plain": [
       "array([[8.47760010e+02, 8.54130005e+02, 8.13260010e+02, 8.19849976e+02,\n",
       "        2.24806000e+09],\n",
       "       [8.19849976e+02, 8.27690002e+02, 7.96130005e+02, 7.97700012e+02,\n",
       "        2.44102000e+09],\n",
       "       [7.97710022e+02, 8.44320007e+02, 7.75679993e+02, 8.43429993e+02,\n",
       "        2.77556000e+09],\n",
       "       ...,\n",
       "       [3.91586011e+03, 3.92197998e+03, 3.88503003e+03, 3.91396997e+03,\n",
       "        4.77343000e+09],\n",
       "       [3.92115991e+03, 3.93040991e+03, 3.90307007e+03, 3.90670996e+03,\n",
       "        4.82394000e+09],\n",
       "       [3.88555005e+03, 3.90291992e+03, 3.87470996e+03, 3.87650000e+03,\n",
       "        5.87019000e+09]])"
      ]
     },
     "execution_count": 31,
     "metadata": {},
     "output_type": "execute_result"
    }
   ],
   "source": [
    "scaler_train_X.inverse_transform(test_X[:,0,:])"
   ]
  },
  {
   "cell_type": "code",
   "execution_count": 32,
   "metadata": {},
   "outputs": [
    {
     "data": {
      "text/html": [
       "<div>\n",
       "<style scoped>\n",
       "    .dataframe tbody tr th:only-of-type {\n",
       "        vertical-align: middle;\n",
       "    }\n",
       "\n",
       "    .dataframe tbody tr th {\n",
       "        vertical-align: top;\n",
       "    }\n",
       "\n",
       "    .dataframe thead th {\n",
       "        text-align: right;\n",
       "    }\n",
       "</style>\n",
       "<table border=\"1\" class=\"dataframe\">\n",
       "  <thead>\n",
       "    <tr style=\"text-align: right;\">\n",
       "      <th></th>\n",
       "      <th>Open</th>\n",
       "      <th>High</th>\n",
       "      <th>Low</th>\n",
       "      <th>Close</th>\n",
       "      <th>Volume</th>\n",
       "      <th>next_day_close</th>\n",
       "    </tr>\n",
       "    <tr>\n",
       "      <th>Date</th>\n",
       "      <th></th>\n",
       "      <th></th>\n",
       "      <th></th>\n",
       "      <th></th>\n",
       "      <th></th>\n",
       "      <th></th>\n",
       "    </tr>\n",
       "  </thead>\n",
       "  <tbody>\n",
       "    <tr>\n",
       "      <th>2021-02-16</th>\n",
       "      <td>3939.610107</td>\n",
       "      <td>3950.429932</td>\n",
       "      <td>3923.850098</td>\n",
       "      <td>3932.590088</td>\n",
       "      <td>5037360000</td>\n",
       "      <td>3931.330078</td>\n",
       "    </tr>\n",
       "    <tr>\n",
       "      <th>2021-02-17</th>\n",
       "      <td>3918.500000</td>\n",
       "      <td>3933.610107</td>\n",
       "      <td>3900.429932</td>\n",
       "      <td>3931.330078</td>\n",
       "      <td>4718280000</td>\n",
       "      <td>3913.969971</td>\n",
       "    </tr>\n",
       "    <tr>\n",
       "      <th>2021-02-18</th>\n",
       "      <td>3915.860107</td>\n",
       "      <td>3921.979980</td>\n",
       "      <td>3885.030029</td>\n",
       "      <td>3913.969971</td>\n",
       "      <td>4773430000</td>\n",
       "      <td>3906.709961</td>\n",
       "    </tr>\n",
       "    <tr>\n",
       "      <th>2021-02-19</th>\n",
       "      <td>3921.159912</td>\n",
       "      <td>3930.409912</td>\n",
       "      <td>3903.070068</td>\n",
       "      <td>3906.709961</td>\n",
       "      <td>4823940000</td>\n",
       "      <td>3876.500000</td>\n",
       "    </tr>\n",
       "    <tr>\n",
       "      <th>2021-02-22</th>\n",
       "      <td>3885.550049</td>\n",
       "      <td>3902.919922</td>\n",
       "      <td>3874.709961</td>\n",
       "      <td>3876.500000</td>\n",
       "      <td>5870190000</td>\n",
       "      <td>3881.370117</td>\n",
       "    </tr>\n",
       "  </tbody>\n",
       "</table>\n",
       "</div>"
      ],
      "text/plain": [
       "                   Open         High          Low        Close      Volume  \\\n",
       "Date                                                                         \n",
       "2021-02-16  3939.610107  3950.429932  3923.850098  3932.590088  5037360000   \n",
       "2021-02-17  3918.500000  3933.610107  3900.429932  3931.330078  4718280000   \n",
       "2021-02-18  3915.860107  3921.979980  3885.030029  3913.969971  4773430000   \n",
       "2021-02-19  3921.159912  3930.409912  3903.070068  3906.709961  4823940000   \n",
       "2021-02-22  3885.550049  3902.919922  3874.709961  3876.500000  5870190000   \n",
       "\n",
       "            next_day_close  \n",
       "Date                        \n",
       "2021-02-16     3931.330078  \n",
       "2021-02-17     3913.969971  \n",
       "2021-02-18     3906.709961  \n",
       "2021-02-19     3876.500000  \n",
       "2021-02-22     3881.370117  "
      ]
     },
     "execution_count": 32,
     "metadata": {},
     "output_type": "execute_result"
    }
   ],
   "source": [
    "data_test.tail()"
   ]
  },
  {
   "cell_type": "code",
   "execution_count": 33,
   "metadata": {},
   "outputs": [],
   "source": [
    "# predict\n",
    "y_pred = model.predict(test_X)"
   ]
  },
  {
   "cell_type": "code",
   "execution_count": 34,
   "metadata": {},
   "outputs": [
    {
     "data": {
      "text/plain": [
       "(4680, 1, 1)"
      ]
     },
     "execution_count": 34,
     "metadata": {},
     "output_type": "execute_result"
    }
   ],
   "source": [
    "y_pred.shape"
   ]
  },
  {
   "cell_type": "code",
   "execution_count": 35,
   "metadata": {},
   "outputs": [
    {
     "data": {
      "text/plain": [
       "array([[ 822.44653],\n",
       "       [ 798.949  ],\n",
       "       [ 817.6531 ],\n",
       "       ...,\n",
       "       [3485.3481 ],\n",
       "       [3487.5737 ],\n",
       "       [3468.4211 ]], dtype=float32)"
      ]
     },
     "execution_count": 35,
     "metadata": {},
     "output_type": "execute_result"
    }
   ],
   "source": [
    "scaler_train_y.inverse_transform(y_pred[:,0,:])\n",
    "# scaler_train_y.inverse_transform(y_pred)"
   ]
  },
  {
   "cell_type": "code",
   "execution_count": null,
   "metadata": {},
   "outputs": [],
   "source": []
  },
  {
   "cell_type": "code",
   "execution_count": null,
   "metadata": {},
   "outputs": [],
   "source": []
  },
  {
   "cell_type": "code",
   "execution_count": 36,
   "metadata": {},
   "outputs": [
    {
     "data": {
      "image/png": "[encoded data removed]",
      "text/plain": [
       "<Figure size 432x288 with 1 Axes>"
      ]
     },
     "metadata": {
      "needs_background": "light"
     },
     "output_type": "display_data"
    }
   ],
   "source": [
    "# plot predicted sequence\n",
    "plt.title(\"Model Testing\", fontsize=12)\n",
    "plt.plot(test_y, \"g--\", markersize=10, label=\"actual closing\")\n",
    "# plt.plot(y_pred, \"r--\", markersize=10, label=\"predicted closing\")\n",
    "plt.plot(y_pred[:,0,0], \"r--\", markersize=10, label=\"predicted closing\")\n",
    "plt.legend(loc=\"upper left\")\n",
    "plt.xlabel(\"Time\")\n",
    "plt.show()"
   ]
  },
  {
   "cell_type": "markdown",
   "metadata": {},
   "source": [
    "#### Predict the closing stock price for Feb 24th 2021"
   ]
  },
  {
   "cell_type": "code",
   "execution_count": 37,
   "metadata": {},
   "outputs": [],
   "source": [
    "# predicted close for 23rd == 3661.169\n",
    "# spx_24_2_2021 = np.array([3857.070068, 3895.979980, 3805.590088, 3661.169, 6280650000])\n",
    "spx_24_2_2021 = np.array([3857.070068, 3895.979980, 3805.590088, 3881.370117, 6280650000])"
   ]
  },
  {
   "cell_type": "code",
   "execution_count": 38,
   "metadata": {},
   "outputs": [
    {
     "name": "stdout",
     "output_type": "stream",
     "text": [
      "[[3.85707007e+03 3.89597998e+03 3.80559009e+03 3.88137012e+03\n",
      "  6.28065000e+09]]\n"
     ]
    }
   ],
   "source": [
    "# reshape\n",
    "spx_24_2_2021 = np.reshape(spx_24_2_2021, (-1,1)).T\n",
    "print(spx_24_2_2021)"
   ]
  },
  {
   "cell_type": "code",
   "execution_count": 39,
   "metadata": {},
   "outputs": [
    {
     "data": {
      "text/plain": [
       "(1, 5)"
      ]
     },
     "execution_count": 39,
     "metadata": {},
     "output_type": "execute_result"
    }
   ],
   "source": [
    "spx_24_2_2021.shape"
   ]
  },
  {
   "cell_type": "code",
   "execution_count": 40,
   "metadata": {},
   "outputs": [],
   "source": [
    "# scale input\n",
    "spx_24_2_2021 = scaler_train_X.transform(spx_24_2_2021)"
   ]
  },
  {
   "cell_type": "code",
   "execution_count": 41,
   "metadata": {},
   "outputs": [],
   "source": [
    "# reshape inputs to 3D array\n",
    "spx_24_2_2021 = spx_24_2_2021[:,None,:]"
   ]
  },
  {
   "cell_type": "code",
   "execution_count": 42,
   "metadata": {},
   "outputs": [
    {
     "data": {
      "text/plain": [
       "(1, 1, 5)"
      ]
     },
     "execution_count": 42,
     "metadata": {},
     "output_type": "execute_result"
    }
   ],
   "source": [
    "spx_24_2_2021.shape"
   ]
  },
  {
   "cell_type": "code",
   "execution_count": 43,
   "metadata": {},
   "outputs": [],
   "source": [
    "stock_prediction = model.predict(spx_24_2_2021)"
   ]
  },
  {
   "cell_type": "code",
   "execution_count": 44,
   "metadata": {},
   "outputs": [
    {
     "name": "stdout",
     "output_type": "stream",
     "text": [
      "[[[2.2671177]]]\n"
     ]
    }
   ],
   "source": [
    "print(stock_prediction)"
   ]
  },
  {
   "cell_type": "code",
   "execution_count": null,
   "metadata": {},
   "outputs": [],
   "source": [
    "stock_prediction[0][0]"
   ]
  },
  {
   "cell_type": "code",
   "execution_count": 47,
   "metadata": {},
   "outputs": [
    {
     "name": "stdout",
     "output_type": "stream",
     "text": [
      "Closing stock price for 24th February 2021: 3457.356201171875\n"
     ]
    }
   ],
   "source": [
    "# inverse transform\n",
    "prediction = scaler_train_y.inverse_transform(stock_prediction[0])\n",
    "print(f'Closing stock price for 24th February 2021: {prediction[0][0]}')"
   ]
  },
  {
   "cell_type": "code",
   "execution_count": null,
   "metadata": {},
   "outputs": [],
   "source": []
  },
  {
   "cell_type": "code",
   "execution_count": 46,
   "metadata": {},
   "outputs": [],
   "source": [
    "# prediction = scaler_train_y.inverse_transform(stock_prediction)\n",
    "# print(f'Closing stock price for 24th February 2021: {prediction}')"
   ]
  }
 ],
 "metadata": {
  "environment": {
   "name": "tf2-gpu.2-3.mnightly-2021-02-02-debian-10-test",
   "type": "gcloud",
   "uri": "gcr.io/deeplearning-platform-release/tf2-gpu.2-3:mnightly-2021-02-02-debian-10-test"
  },
  "kernelspec": {
   "display_name": "Python 3",
   "language": "python",
   "name": "python3"
  },
  "language_info": {
   "codemirror_mode": {
    "name": "ipython",
    "version": 3
   },
   "file_extension": ".py",
   "mimetype": "text/x-python",
   "name": "python",
   "nbconvert_exporter": "python",
   "pygments_lexer": "ipython3",
   "version": "3.7.9"
  }
 },
 "nbformat": 4,
 "nbformat_minor": 4
}
